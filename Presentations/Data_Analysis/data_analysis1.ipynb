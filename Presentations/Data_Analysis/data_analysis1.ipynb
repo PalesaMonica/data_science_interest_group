{
 "cells": [
  {
   "cell_type": "markdown",
   "metadata": {},
   "source": [
    "### Data analysis and Exploration"
   ]
  },
  {
   "cell_type": "markdown",
   "metadata": {},
   "source": [
    "#### About Dataset\n",
    "\n",
    "**Description**\n",
    "\n",
    "This dataset contains information on domestic violence against women in a specific rural area of a developing country. The data is collected to help understand the correlation between various socio-economic factors and domestic violence.\n",
    "\n",
    "**Dataset Content**\n",
    "\n",
    "The dataset includes the following columns:\n",
    "\n",
    "- SL. No: Serial number of the record.\n",
    "- Age: Age of the respondent.\n",
    "- Education: Educational attainment of the respondent( tertiary for higher secondary).\n",
    "- Employment: Employment status of the respondent.\n",
    "- Income: Income level of the respondent (0 indicating no income).\n",
    "- Marital status: Marital status of the respondent (married or unmarried).\n",
    "- Violence: Indicates whether the respondent has experienced domestic violence (yes or no).\n",
    "\n",
    "**Context**\n",
    "\n",
    "Domestic violence against women is a significant issue in many developing countries. Understanding the factors that contribute to this violence can help in creating effective interventions and policies. This dataset aims to provide a basis for analysis and research in this critical area.\n",
    "\n"
   ]
  },
  {
   "cell_type": "markdown",
   "metadata": {},
   "source": [
    "#### **What is Exploratory Data Analysis?**\n",
    " \n",
    " - Exploratory Data Analysis(EDA) helps understand a dataset before applying machine learning or making decisions\n",
    "\n",
    "#### **Goal of Exploratory Data Analysis**\n",
    " - The goal is to identify patterns, outliers, and insights"
   ]
  },
  {
   "cell_type": "markdown",
   "metadata": {},
   "source": [
    "**Step 1 : Import necessary libraries and load your dataset**"
   ]
  },
  {
   "cell_type": "code",
   "execution_count": 26,
   "metadata": {},
   "outputs": [],
   "source": [
    "import pandas as pd"
   ]
  },
  {
   "cell_type": "code",
   "execution_count": 27,
   "metadata": {},
   "outputs": [],
   "source": [
    "data = pd.read_csv(\"Domestic violence.csv\")"
   ]
  },
  {
   "cell_type": "markdown",
   "metadata": {},
   "source": [
    "**Step 2 : Read first lines of your dataset**"
   ]
  },
  {
   "cell_type": "code",
   "execution_count": 28,
   "metadata": {},
   "outputs": [
    {
     "data": {
      "text/html": [
       "<div>\n",
       "<style scoped>\n",
       "    .dataframe tbody tr th:only-of-type {\n",
       "        vertical-align: middle;\n",
       "    }\n",
       "\n",
       "    .dataframe tbody tr th {\n",
       "        vertical-align: top;\n",
       "    }\n",
       "\n",
       "    .dataframe thead th {\n",
       "        text-align: right;\n",
       "    }\n",
       "</style>\n",
       "<table border=\"1\" class=\"dataframe\">\n",
       "  <thead>\n",
       "    <tr style=\"text-align: right;\">\n",
       "      <th></th>\n",
       "      <th>SL. No</th>\n",
       "      <th>Age</th>\n",
       "      <th>Education</th>\n",
       "      <th>Employment</th>\n",
       "      <th>Income</th>\n",
       "      <th>Marital status</th>\n",
       "      <th>Violence</th>\n",
       "    </tr>\n",
       "  </thead>\n",
       "  <tbody>\n",
       "    <tr>\n",
       "      <th>0</th>\n",
       "      <td>1</td>\n",
       "      <td>30</td>\n",
       "      <td>secondary</td>\n",
       "      <td>unemployed</td>\n",
       "      <td>0</td>\n",
       "      <td>married</td>\n",
       "      <td>yes</td>\n",
       "    </tr>\n",
       "    <tr>\n",
       "      <th>1</th>\n",
       "      <td>2</td>\n",
       "      <td>47</td>\n",
       "      <td>tertiary</td>\n",
       "      <td>unemployed</td>\n",
       "      <td>0</td>\n",
       "      <td>married</td>\n",
       "      <td>no</td>\n",
       "    </tr>\n",
       "    <tr>\n",
       "      <th>2</th>\n",
       "      <td>3</td>\n",
       "      <td>24</td>\n",
       "      <td>tertiary</td>\n",
       "      <td>unemployed</td>\n",
       "      <td>0</td>\n",
       "      <td>unmarred</td>\n",
       "      <td>no</td>\n",
       "    </tr>\n",
       "    <tr>\n",
       "      <th>3</th>\n",
       "      <td>4</td>\n",
       "      <td>22</td>\n",
       "      <td>tertiary</td>\n",
       "      <td>unemployed</td>\n",
       "      <td>0</td>\n",
       "      <td>unmarred</td>\n",
       "      <td>no</td>\n",
       "    </tr>\n",
       "    <tr>\n",
       "      <th>4</th>\n",
       "      <td>5</td>\n",
       "      <td>50</td>\n",
       "      <td>primary</td>\n",
       "      <td>unemployed</td>\n",
       "      <td>0</td>\n",
       "      <td>married</td>\n",
       "      <td>yes</td>\n",
       "    </tr>\n",
       "  </tbody>\n",
       "</table>\n",
       "</div>"
      ],
      "text/plain": [
       "   SL. No  Age Education  Employment   Income Marital status  Violence \n",
       "0       1   30  secondary  unemployed       0         married       yes\n",
       "1       2   47   tertiary  unemployed       0         married        no\n",
       "2       3   24   tertiary  unemployed       0        unmarred        no\n",
       "3       4   22   tertiary  unemployed       0        unmarred        no\n",
       "4       5   50    primary  unemployed       0         married       yes"
      ]
     },
     "execution_count": 28,
     "metadata": {},
     "output_type": "execute_result"
    }
   ],
   "source": [
    "data.head()"
   ]
  },
  {
   "cell_type": "markdown",
   "metadata": {},
   "source": [
    "From the above we can see that the dataset may contain information about different indivisuals so first we would like to look at the number of people sampled"
   ]
  },
  {
   "cell_type": "markdown",
   "metadata": {},
   "source": [
    "**Step 3:Data analysis**"
   ]
  },
  {
   "cell_type": "code",
   "execution_count": 29,
   "metadata": {},
   "outputs": [
    {
     "data": {
      "text/plain": [
       "(347, 7)"
      ]
     },
     "execution_count": 29,
     "metadata": {},
     "output_type": "execute_result"
    }
   ],
   "source": [
    "data.shape"
   ]
  },
  {
   "cell_type": "markdown",
   "metadata": {},
   "source": [
    "The data has 347 individuals who were recorded and for each about 7 attributes were checked ,now we will be checking the data types used in our data"
   ]
  },
  {
   "cell_type": "code",
   "execution_count": 30,
   "metadata": {},
   "outputs": [
    {
     "name": "stdout",
     "output_type": "stream",
     "text": [
      "<class 'pandas.core.frame.DataFrame'>\n",
      "RangeIndex: 347 entries, 0 to 346\n",
      "Data columns (total 7 columns):\n",
      " #   Column           Non-Null Count  Dtype \n",
      "---  ------           --------------  ----- \n",
      " 0   SL. No           347 non-null    int64 \n",
      " 1   Age              347 non-null    int64 \n",
      " 2   Education        347 non-null    object\n",
      " 3   Employment       347 non-null    object\n",
      " 4   Income           347 non-null    int64 \n",
      " 5   Marital status   347 non-null    object\n",
      " 6   Violence         347 non-null    object\n",
      "dtypes: int64(3), object(4)\n",
      "memory usage: 19.1+ KB\n"
     ]
    }
   ],
   "source": [
    "data.info()"
   ]
  },
  {
   "cell_type": "markdown",
   "metadata": {},
   "source": [
    "Majority of the attributes are categories and we see that the number of non-null values in each category is equivalent to the total number of entries in the dataset which implies that there are no missing values."
   ]
  },
  {
   "cell_type": "code",
   "execution_count": 31,
   "metadata": {},
   "outputs": [
    {
     "data": {
      "text/html": [
       "<div>\n",
       "<style scoped>\n",
       "    .dataframe tbody tr th:only-of-type {\n",
       "        vertical-align: middle;\n",
       "    }\n",
       "\n",
       "    .dataframe tbody tr th {\n",
       "        vertical-align: top;\n",
       "    }\n",
       "\n",
       "    .dataframe thead th {\n",
       "        text-align: right;\n",
       "    }\n",
       "</style>\n",
       "<table border=\"1\" class=\"dataframe\">\n",
       "  <thead>\n",
       "    <tr style=\"text-align: right;\">\n",
       "      <th></th>\n",
       "      <th>SL. No</th>\n",
       "      <th>Age</th>\n",
       "      <th>Income</th>\n",
       "    </tr>\n",
       "  </thead>\n",
       "  <tbody>\n",
       "    <tr>\n",
       "      <th>count</th>\n",
       "      <td>347.000000</td>\n",
       "      <td>347.000000</td>\n",
       "      <td>347.000000</td>\n",
       "    </tr>\n",
       "    <tr>\n",
       "      <th>mean</th>\n",
       "      <td>174.000000</td>\n",
       "      <td>31.380403</td>\n",
       "      <td>2110.685879</td>\n",
       "    </tr>\n",
       "    <tr>\n",
       "      <th>std</th>\n",
       "      <td>100.314505</td>\n",
       "      <td>9.601569</td>\n",
       "      <td>5743.278766</td>\n",
       "    </tr>\n",
       "    <tr>\n",
       "      <th>min</th>\n",
       "      <td>1.000000</td>\n",
       "      <td>15.000000</td>\n",
       "      <td>0.000000</td>\n",
       "    </tr>\n",
       "    <tr>\n",
       "      <th>25%</th>\n",
       "      <td>87.500000</td>\n",
       "      <td>23.000000</td>\n",
       "      <td>0.000000</td>\n",
       "    </tr>\n",
       "    <tr>\n",
       "      <th>50%</th>\n",
       "      <td>174.000000</td>\n",
       "      <td>30.000000</td>\n",
       "      <td>0.000000</td>\n",
       "    </tr>\n",
       "    <tr>\n",
       "      <th>75%</th>\n",
       "      <td>260.500000</td>\n",
       "      <td>39.500000</td>\n",
       "      <td>0.000000</td>\n",
       "    </tr>\n",
       "    <tr>\n",
       "      <th>max</th>\n",
       "      <td>347.000000</td>\n",
       "      <td>60.000000</td>\n",
       "      <td>35000.000000</td>\n",
       "    </tr>\n",
       "  </tbody>\n",
       "</table>\n",
       "</div>"
      ],
      "text/plain": [
       "           SL. No         Age        Income\n",
       "count  347.000000  347.000000    347.000000\n",
       "mean   174.000000   31.380403   2110.685879\n",
       "std    100.314505    9.601569   5743.278766\n",
       "min      1.000000   15.000000      0.000000\n",
       "25%     87.500000   23.000000      0.000000\n",
       "50%    174.000000   30.000000      0.000000\n",
       "75%    260.500000   39.500000      0.000000\n",
       "max    347.000000   60.000000  35000.000000"
      ]
     },
     "execution_count": 31,
     "metadata": {},
     "output_type": "execute_result"
    }
   ],
   "source": [
    "data.describe()"
   ]
  },
  {
   "cell_type": "markdown",
   "metadata": {},
   "source": [
    "For the people that we sampled we see the following things from the above statistical summary\n",
    "\n",
    "-  Majority of there women are at the age 30 with the youngest being 15 and oldest being 60 years which indicates that the women of interest are people between age 15 - 60 \n",
    "- We also notice that the  on average the women do not have any source of income meaning that this might be a factor that contributes to domestic violence"
   ]
  },
  {
   "cell_type": "code",
   "execution_count": 32,
   "metadata": {},
   "outputs": [
    {
     "data": {
      "text/plain": [
       "Education \n",
       "primary      132\n",
       "secondary    114\n",
       "none          52\n",
       "tertiary      49\n",
       "Name: count, dtype: int64"
      ]
     },
     "execution_count": 32,
     "metadata": {},
     "output_type": "execute_result"
    }
   ],
   "source": [
    "data[\"Education \"].value_counts()"
   ]
  },
  {
   "cell_type": "markdown",
   "metadata": {},
   "source": [
    "We see that about 38% of the women only attended primary school with 15% of them not having any form of education \n",
    "\n",
    "- This results indicate that 53 % of the people have education level up to primary school which is consisted with the the numbers indicated by the income of 50% of the women not having any sort of income this could be the results of them not having high level of education\n",
    "\n",
    "- Now we would want to check the relationship between  income and domestic violence cases\n"
   ]
  },
  {
   "cell_type": "code",
   "execution_count": 33,
   "metadata": {},
   "outputs": [
    {
     "data": {
      "text/html": [
       "<div>\n",
       "<style scoped>\n",
       "    .dataframe tbody tr th:only-of-type {\n",
       "        vertical-align: middle;\n",
       "    }\n",
       "\n",
       "    .dataframe tbody tr th {\n",
       "        vertical-align: top;\n",
       "    }\n",
       "\n",
       "    .dataframe thead th {\n",
       "        text-align: right;\n",
       "    }\n",
       "</style>\n",
       "<table border=\"1\" class=\"dataframe\">\n",
       "  <thead>\n",
       "    <tr style=\"text-align: right;\">\n",
       "      <th></th>\n",
       "      <th>count</th>\n",
       "      <th>mean</th>\n",
       "      <th>std</th>\n",
       "      <th>min</th>\n",
       "      <th>25%</th>\n",
       "      <th>50%</th>\n",
       "      <th>75%</th>\n",
       "      <th>max</th>\n",
       "    </tr>\n",
       "    <tr>\n",
       "      <th>Violence</th>\n",
       "      <th></th>\n",
       "      <th></th>\n",
       "      <th></th>\n",
       "      <th></th>\n",
       "      <th></th>\n",
       "      <th></th>\n",
       "      <th></th>\n",
       "      <th></th>\n",
       "    </tr>\n",
       "  </thead>\n",
       "  <tbody>\n",
       "    <tr>\n",
       "      <th>no</th>\n",
       "      <td>261.0</td>\n",
       "      <td>2504.628352</td>\n",
       "      <td>6295.998263</td>\n",
       "      <td>0.0</td>\n",
       "      <td>0.0</td>\n",
       "      <td>0.0</td>\n",
       "      <td>0.0</td>\n",
       "      <td>35000.0</td>\n",
       "    </tr>\n",
       "    <tr>\n",
       "      <th>yes</th>\n",
       "      <td>86.0</td>\n",
       "      <td>915.116279</td>\n",
       "      <td>3331.084171</td>\n",
       "      <td>0.0</td>\n",
       "      <td>0.0</td>\n",
       "      <td>0.0</td>\n",
       "      <td>0.0</td>\n",
       "      <td>24000.0</td>\n",
       "    </tr>\n",
       "  </tbody>\n",
       "</table>\n",
       "</div>"
      ],
      "text/plain": [
       "           count         mean          std  min  25%  50%  75%      max\n",
       "Violence                                                               \n",
       "no         261.0  2504.628352  6295.998263  0.0  0.0  0.0  0.0  35000.0\n",
       "yes         86.0   915.116279  3331.084171  0.0  0.0  0.0  0.0  24000.0"
      ]
     },
     "execution_count": 33,
     "metadata": {},
     "output_type": "execute_result"
    }
   ],
   "source": [
    "data.groupby('Violence ')['Income'].describe()"
   ]
  },
  {
   "cell_type": "markdown",
   "metadata": {},
   "source": [
    "We can see that income does not really have a high impact on violence so we will be looking at the marital status compared to domestic violence"
   ]
  },
  {
   "cell_type": "code",
   "execution_count": 34,
   "metadata": {},
   "outputs": [
    {
     "name": "stdout",
     "output_type": "stream",
     "text": [
      "Violence          no  yes\n",
      "Marital status           \n",
      "married          217   83\n",
      "unmarred          44    3\n"
     ]
    }
   ],
   "source": [
    "cross_tab = pd.crosstab(data['Marital status '], data['Violence '])\n",
    "print(cross_tab)"
   ]
  },
  {
   "cell_type": "markdown",
   "metadata": {},
   "source": [
    "From this we can see that married women are more likely to suffer domestic abuse compare to women who are not married which might also narrow  down our target to being only married women"
   ]
  },
  {
   "cell_type": "code",
   "execution_count": 39,
   "metadata": {},
   "outputs": [
    {
     "name": "stdout",
     "output_type": "stream",
     "text": [
      "Violence \n",
      "no     0.752161\n",
      "yes    0.247839\n",
      "Name: proportion, dtype: float64\n"
     ]
    }
   ],
   "source": [
    "print(data['Violence '].value_counts(normalize=True))  "
   ]
  },
  {
   "cell_type": "markdown",
   "metadata": {},
   "source": [
    "The above statistics indicate that  majority of women who were recorded do not suffer from domestic violence ,now we will like to check if these women are employed since majority lack education"
   ]
  },
  {
   "cell_type": "code",
   "execution_count": 35,
   "metadata": {},
   "outputs": [
    {
     "data": {
      "text/plain": [
       "Employment \n",
       "unemployed       274\n",
       "semi employed     47\n",
       "employed          23\n",
       "employed           3\n",
       "Name: count, dtype: int64"
      ]
     },
     "execution_count": 35,
     "metadata": {},
     "output_type": "execute_result"
    }
   ],
   "source": [
    "data['Employment '].value_counts()"
   ]
  },
  {
   "cell_type": "markdown",
   "metadata": {},
   "source": [
    "We see that for employed people there are two different caterogies which we will need to merge since they represent the same type of category"
   ]
  },
  {
   "cell_type": "code",
   "execution_count": 40,
   "metadata": {},
   "outputs": [
    {
     "name": "stdout",
     "output_type": "stream",
     "text": [
      "Employment \n",
      "unemployed       0.789625\n",
      "semi employed    0.135447\n",
      "employed         0.066282\n",
      "employed         0.008646\n",
      "Name: proportion, dtype: float64\n"
     ]
    }
   ],
   "source": [
    "print(data['Employment '].value_counts(normalize=True))"
   ]
  },
  {
   "cell_type": "markdown",
   "metadata": {},
   "source": [
    "Aside from employed category being repeated we can see that 78 percent of these women are not employed which makes sense since about 50% of them do not have any income and have up to primary education level."
   ]
  },
  {
   "cell_type": "code",
   "execution_count": 36,
   "metadata": {},
   "outputs": [
    {
     "name": "stdout",
     "output_type": "stream",
     "text": [
      "0\n"
     ]
    }
   ],
   "source": [
    "print(data.duplicated().sum())"
   ]
  },
  {
   "cell_type": "markdown",
   "metadata": {},
   "source": [
    "Our dataset does not have any duplicate and now we will move to data cleaning and visualization on the relationship between socio-economic factors and domestic violence against women\n",
    "\n",
    "**Based on the analysis so far we can come to the assumption that the factors used  to predict if a women has suffered domestic violent may not be the direct factors that affect domestic violence and maybe other factors will also have to be considered as this is not enough information to make such a conclusion**"
   ]
  }
 ],
 "metadata": {
  "kernelspec": {
   "display_name": "base",
   "language": "python",
   "name": "python3"
  },
  "language_info": {
   "codemirror_mode": {
    "name": "ipython",
    "version": 3
   },
   "file_extension": ".py",
   "mimetype": "text/x-python",
   "name": "python",
   "nbconvert_exporter": "python",
   "pygments_lexer": "ipython3",
   "version": "3.12.7"
  }
 },
 "nbformat": 4,
 "nbformat_minor": 2
}
