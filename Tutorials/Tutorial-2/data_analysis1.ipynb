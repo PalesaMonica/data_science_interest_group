{
 "cells": [
  {
   "cell_type": "markdown",
   "metadata": {},
   "source": [
    "At this stage you should be able to use pandas to learn more about your data\n",
    "\n",
    "**Use the dataset provided to do some analysis and make a conclusion based on your analysis**"
   ]
  },
  {
   "cell_type": "markdown",
   "metadata": {},
   "source": [
    "**About Dataset**\n",
    "\n",
    "Child sexual abuse has become a major concern in recent years. To protect children from this abuse, we must first try to identify what the potential factors are. I became interested in creating a dataset as a result of this thought. By asking a series of questions, this dataset predicts a person's level of knowledge about child sexual abuse."
   ]
  }
 ],
 "metadata": {
  "kernelspec": {
   "display_name": "base",
   "language": "python",
   "name": "python3"
  },
  "language_info": {
   "codemirror_mode": {
    "name": "ipython",
    "version": 3
   },
   "file_extension": ".py",
   "mimetype": "text/x-python",
   "name": "python",
   "nbconvert_exporter": "python",
   "pygments_lexer": "ipython3",
   "version": "3.12.7"
  }
 },
 "nbformat": 4,
 "nbformat_minor": 2
}
