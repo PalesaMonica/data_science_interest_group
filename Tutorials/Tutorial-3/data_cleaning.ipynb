{
 "cells": [
  {
   "cell_type": "markdown",
   "metadata": {},
   "source": [
    "#### About Dataset\n",
    "\n",
    "- The dataset contains information about a group of test subjects and their sleep patterns.\n",
    "  - Each test subject is identified by a unique \"Subject ID\" and their age and gender are also recorded.\n",
    "  - The \"Bedtime\" and \"Wakeup time\" features indicate when each subject goes to bed and wakes up each day, and\n",
    "  -  the \"Sleep duration\" feature records the total amount of time each subject slept in hours. \n",
    "  - The \"Sleep efficiency\" feature is a measure of the proportion of time spent in bed that is actually spent asleep.\n",
    "  -  The \"REM sleep percentage\", \"Deep sleep percentage\", and \"Light sleep percentage\" features indicate the amount of time each subject spent in each stage of sleep. \n",
    "  - The \"Awakenings\" feature records the number of times each subject wakes up during the night. \n",
    "    \n",
    "Additionally, the dataset includes information about each subject's caffeine and alcohol consumption in the 24 hours prior to bedtime, their smoking status, and their exercise frequency"
   ]
  },
  {
   "cell_type": "markdown",
   "metadata": {},
   "source": [
    "**Use the dataset provided to do data analysis including cleaning the data**"
   ]
  }
 ],
 "metadata": {
  "kernelspec": {
   "display_name": "base",
   "language": "python",
   "name": "python3"
  },
  "language_info": {
   "codemirror_mode": {
    "name": "ipython",
    "version": 3
   },
   "file_extension": ".py",
   "mimetype": "text/x-python",
   "name": "python",
   "nbconvert_exporter": "python",
   "pygments_lexer": "ipython3",
   "version": "3.12.7"
  }
 },
 "nbformat": 4,
 "nbformat_minor": 2
}
