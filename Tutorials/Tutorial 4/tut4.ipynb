{
 "cells": [
  {
   "cell_type": "markdown",
   "id": "d5d3079b",
   "metadata": {},
   "source": [
    "#### **About this file**\n",
    "\n",
    "This dataset contains information about the prevalence of mental health disorders in countries across the globe\n",
    "\n",
    "- Entity: Unique identifier for each country or region included in the data set. (String)\n",
    "- Code: Unique code associated with an Entity/Country or region included in the data set. (String)\n",
    "- Year: Year that the data about that particular Entity/Country was collected. (Integer)\n",
    "- Schizophrenia (%): Percentage of people with schizophrenia in that country/region during that year. (Float)\n",
    "- Bipolar disorder (%): Percentage of people with bipolar disorder in that country/region during that year. (Float)\n",
    "- Eating disorders (%): Percentage of people with eating disorders in that country/region during that year. (Float)\n",
    "- Anxiety disorders (%): Percentage of people with anxiety disorders in that country/region during that year. (Float)\n",
    "- Drug use disorders (%): Percentage of people with drug use disorders in that country/region during that year. (Float)\n",
    "- Depression (%): Percentage of people with depression in that country/region during that year. (Float)\n",
    "- Alcohol use disorders (%): Percentage of people with alcohol use disorders in that country/region during that year. (Float)\n"
   ]
  },
  {
   "cell_type": "markdown",
   "id": "c318bd3e",
   "metadata": {},
   "source": []
  }
 ],
 "metadata": {
  "language_info": {
   "name": "python"
  }
 },
 "nbformat": 4,
 "nbformat_minor": 5
}
