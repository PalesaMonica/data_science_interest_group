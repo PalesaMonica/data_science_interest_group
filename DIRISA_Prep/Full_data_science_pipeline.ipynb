{
 "cells": [
  {
   "metadata": {},
   "cell_type": "markdown",
   "source": [
    "### Data Scientist Salary Prediction\n",
    "\n",
    "- The aim of this project is to predict the salary expectation of a data scientist based on their  skill set,industry,experience and many more features that are contributers"
   ],
   "id": "3a72ee0669e0f869"
  },
  {
   "metadata": {},
   "cell_type": "markdown",
   "source": [
    "### About Dataset\n",
    "\n",
    "This dataset contains job postings related to Data Science roles in 2025, collected from publicly available sources. It includes essential details such as job titles, seniority levels, company information, locations, salaries, industries, company size, and required skills. The dataset has been cleaned and structured to ensure accuracy and consistency, with duplicates and irrelevant entries removed.\n",
    "\n",
    "It is designed to help researchers, students, and professionals analyze hiring trends, salary ranges, and in-demand skills in the Data Science job market. This dataset can also support projects in machine learning, career prediction, salary forecasting, and workforce analytics.\n",
    "\n",
    "#### Key Columns:\n",
    "\n",
    "- job_title : The job title (e.g., Data Scientist)\n",
    "- seniority_level: The seniority of the role (senior, lead, etc.)\n",
    "- status: Work type (on-site, hybrid, remote)\n",
    "- company: Company name (anonymized, e.g., company_003)\n",
    "- location: Job posting location (city, region, or multiple sites)\n",
    "- post_date: Date or time since posting\n",
    "- Headquarters: Company headquarters\n",
    "- Industry: sector (Retail, Technology, Finance, etc.)\n",
    "- ownership: Company type (Public, Private)\n",
    "- company_size: Number of employees in the company\n",
    "- Revenue: Company’s annual revenue\n",
    "- salary: Salary details (fixed or range)\n",
    "- skills: Required skills (e.g., Python, SQL, Machine Learning.\n",
    "\n",
    "#### Dataset Characteristics:\n",
    "- Most job roles are senior and lead level.\n",
    "- Work arrangements are mainly on-site and hybrid.\n",
    "- Companies belong mostly to Technology, Finance, Retail, and Manufacturing sectors.\n",
    "- Salaries are provided as both ranges and fixed amounts."
   ],
   "id": "b844b87522a88293"
  },
  {
   "metadata": {},
   "cell_type": "markdown",
   "source": "### Dependecies",
   "id": "ab3b1f9f4a987024"
  },
  {
   "metadata": {
    "ExecuteTime": {
     "end_time": "2025-10-14T20:04:36.641801Z",
     "start_time": "2025-10-14T20:04:36.633613Z"
    }
   },
   "cell_type": "code",
   "source": [
    "import pandas as pd\n",
    "import numpy as np\n",
    "import matplotlib.pyplot as plt\n",
    "import seaborn as sns\n",
    "import scipy.stats as stats"
   ],
   "id": "1c833dff6c2297ad",
   "outputs": [],
   "execution_count": 2
  },
  {
   "metadata": {
    "ExecuteTime": {
     "end_time": "2025-10-14T20:05:40.729641Z",
     "start_time": "2025-10-14T20:05:40.671758Z"
    }
   },
   "cell_type": "code",
   "source": [
    "#load data\n",
    "data=pd.read_csv(\"data_science_job_posts_2025.csv\")\n",
    "data.head()"
   ],
   "id": "17c03b91f6b87055",
   "outputs": [
    {
     "data": {
      "text/plain": [
       "        job_title seniority_level   status      company  \\\n",
       "0  data scientist          senior   hybrid  company_003   \n",
       "1  data scientist            lead   hybrid  company_005   \n",
       "2  data scientist          senior  on-site  company_007   \n",
       "3  data scientist          senior   hybrid  company_008   \n",
       "4  data scientist             NaN  on-site  company_009   \n",
       "\n",
       "                                            location    post_date  \\\n",
       "0                             Grapevine, TX . Hybrid  17 days ago   \n",
       "1                            Fort Worth, TX . Hybrid  15 days ago   \n",
       "2  Austin, TX . Toronto, Ontario, Canada . Kirkla...  a month ago   \n",
       "3  Chicago, IL . Scottsdale, AZ . Austin, TX . Hy...   8 days ago   \n",
       "4                                            On-site   3 days ago   \n",
       "\n",
       "            headquarter       industry ownership company_size  revenue  \\\n",
       "0   Bentonville, AR, US         Retail    Public     €352.44B   Public   \n",
       "1       Detroit, MI, US  Manufacturing    Public      155,030  €51.10B   \n",
       "2  Redwood City, CA, US     Technology    Public       25,930  €33.80B   \n",
       "3      San Jose, CA, US     Technology    Public       34,690  €81.71B   \n",
       "4      Stamford, CT, US        Finance   Private        1,800  Private   \n",
       "\n",
       "                salary                                             skills  \n",
       "0  €100,472 - €200,938  ['spark', 'r', 'python', 'scala', 'machine lea...  \n",
       "1             €118,733  ['spark', 'r', 'python', 'sql', 'machine learn...  \n",
       "2   €94,987 - €159,559  ['aws', 'git', 'python', 'docker', 'sql', 'mac...  \n",
       "3  €112,797 - €194,402                             ['sql', 'r', 'python']  \n",
       "4  €114,172 - €228,337                                                 []  "
      ],
      "text/html": [
       "<div>\n",
       "<style scoped>\n",
       "    .dataframe tbody tr th:only-of-type {\n",
       "        vertical-align: middle;\n",
       "    }\n",
       "\n",
       "    .dataframe tbody tr th {\n",
       "        vertical-align: top;\n",
       "    }\n",
       "\n",
       "    .dataframe thead th {\n",
       "        text-align: right;\n",
       "    }\n",
       "</style>\n",
       "<table border=\"1\" class=\"dataframe\">\n",
       "  <thead>\n",
       "    <tr style=\"text-align: right;\">\n",
       "      <th></th>\n",
       "      <th>job_title</th>\n",
       "      <th>seniority_level</th>\n",
       "      <th>status</th>\n",
       "      <th>company</th>\n",
       "      <th>location</th>\n",
       "      <th>post_date</th>\n",
       "      <th>headquarter</th>\n",
       "      <th>industry</th>\n",
       "      <th>ownership</th>\n",
       "      <th>company_size</th>\n",
       "      <th>revenue</th>\n",
       "      <th>salary</th>\n",
       "      <th>skills</th>\n",
       "    </tr>\n",
       "  </thead>\n",
       "  <tbody>\n",
       "    <tr>\n",
       "      <th>0</th>\n",
       "      <td>data scientist</td>\n",
       "      <td>senior</td>\n",
       "      <td>hybrid</td>\n",
       "      <td>company_003</td>\n",
       "      <td>Grapevine, TX . Hybrid</td>\n",
       "      <td>17 days ago</td>\n",
       "      <td>Bentonville, AR, US</td>\n",
       "      <td>Retail</td>\n",
       "      <td>Public</td>\n",
       "      <td>€352.44B</td>\n",
       "      <td>Public</td>\n",
       "      <td>€100,472 - €200,938</td>\n",
       "      <td>['spark', 'r', 'python', 'scala', 'machine lea...</td>\n",
       "    </tr>\n",
       "    <tr>\n",
       "      <th>1</th>\n",
       "      <td>data scientist</td>\n",
       "      <td>lead</td>\n",
       "      <td>hybrid</td>\n",
       "      <td>company_005</td>\n",
       "      <td>Fort Worth, TX . Hybrid</td>\n",
       "      <td>15 days ago</td>\n",
       "      <td>Detroit, MI, US</td>\n",
       "      <td>Manufacturing</td>\n",
       "      <td>Public</td>\n",
       "      <td>155,030</td>\n",
       "      <td>€51.10B</td>\n",
       "      <td>€118,733</td>\n",
       "      <td>['spark', 'r', 'python', 'sql', 'machine learn...</td>\n",
       "    </tr>\n",
       "    <tr>\n",
       "      <th>2</th>\n",
       "      <td>data scientist</td>\n",
       "      <td>senior</td>\n",
       "      <td>on-site</td>\n",
       "      <td>company_007</td>\n",
       "      <td>Austin, TX . Toronto, Ontario, Canada . Kirkla...</td>\n",
       "      <td>a month ago</td>\n",
       "      <td>Redwood City, CA, US</td>\n",
       "      <td>Technology</td>\n",
       "      <td>Public</td>\n",
       "      <td>25,930</td>\n",
       "      <td>€33.80B</td>\n",
       "      <td>€94,987 - €159,559</td>\n",
       "      <td>['aws', 'git', 'python', 'docker', 'sql', 'mac...</td>\n",
       "    </tr>\n",
       "    <tr>\n",
       "      <th>3</th>\n",
       "      <td>data scientist</td>\n",
       "      <td>senior</td>\n",
       "      <td>hybrid</td>\n",
       "      <td>company_008</td>\n",
       "      <td>Chicago, IL . Scottsdale, AZ . Austin, TX . Hy...</td>\n",
       "      <td>8 days ago</td>\n",
       "      <td>San Jose, CA, US</td>\n",
       "      <td>Technology</td>\n",
       "      <td>Public</td>\n",
       "      <td>34,690</td>\n",
       "      <td>€81.71B</td>\n",
       "      <td>€112,797 - €194,402</td>\n",
       "      <td>['sql', 'r', 'python']</td>\n",
       "    </tr>\n",
       "    <tr>\n",
       "      <th>4</th>\n",
       "      <td>data scientist</td>\n",
       "      <td>NaN</td>\n",
       "      <td>on-site</td>\n",
       "      <td>company_009</td>\n",
       "      <td>On-site</td>\n",
       "      <td>3 days ago</td>\n",
       "      <td>Stamford, CT, US</td>\n",
       "      <td>Finance</td>\n",
       "      <td>Private</td>\n",
       "      <td>1,800</td>\n",
       "      <td>Private</td>\n",
       "      <td>€114,172 - €228,337</td>\n",
       "      <td>[]</td>\n",
       "    </tr>\n",
       "  </tbody>\n",
       "</table>\n",
       "</div>"
      ]
     },
     "execution_count": 3,
     "metadata": {},
     "output_type": "execute_result"
    }
   ],
   "execution_count": 3
  },
  {
   "metadata": {},
   "cell_type": "markdown",
   "source": "### Data Preprocessing",
   "id": "953da296c71a507e"
  },
  {
   "metadata": {
    "ExecuteTime": {
     "end_time": "2025-10-14T20:13:44.603263Z",
     "start_time": "2025-10-14T20:13:44.592403Z"
    }
   },
   "cell_type": "code",
   "source": [
    "#checking the size of our data\n",
    "data.shape"
   ],
   "id": "cdb2587235079993",
   "outputs": [
    {
     "data": {
      "text/plain": [
       "(944, 13)"
      ]
     },
     "execution_count": 4,
     "metadata": {},
     "output_type": "execute_result"
    }
   ],
   "execution_count": 4
  },
  {
   "metadata": {
    "ExecuteTime": {
     "end_time": "2025-10-14T20:15:22.090550Z",
     "start_time": "2025-10-14T20:15:22.058565Z"
    }
   },
   "cell_type": "code",
   "source": [
    "#checking general data information\n",
    "data.info()"
   ],
   "id": "3189f0c51bdc7561",
   "outputs": [
    {
     "name": "stdout",
     "output_type": "stream",
     "text": [
      "<class 'pandas.core.frame.DataFrame'>\n",
      "RangeIndex: 944 entries, 0 to 943\n",
      "Data columns (total 13 columns):\n",
      " #   Column           Non-Null Count  Dtype \n",
      "---  ------           --------------  ----- \n",
      " 0   job_title        941 non-null    object\n",
      " 1   seniority_level  884 non-null    object\n",
      " 2   status           688 non-null    object\n",
      " 3   company          944 non-null    object\n",
      " 4   location         942 non-null    object\n",
      " 5   post_date        944 non-null    object\n",
      " 6   headquarter      944 non-null    object\n",
      " 7   industry         944 non-null    object\n",
      " 8   ownership        897 non-null    object\n",
      " 9   company_size     944 non-null    object\n",
      " 10  revenue          929 non-null    object\n",
      " 11  salary           944 non-null    object\n",
      " 12  skills           944 non-null    object\n",
      "dtypes: object(13)\n",
      "memory usage: 96.0+ KB\n"
     ]
    }
   ],
   "execution_count": 5
  },
  {
   "metadata": {},
   "cell_type": "markdown",
   "source": [
    "- The data consist of attributes that have missing values\n",
    "- All the columns are provided as objct ,some will be converted to numeric"
   ],
   "id": "9b54af9748f6ef17"
  },
  {
   "metadata": {},
   "cell_type": "markdown",
   "source": "We are going to do data cleaning as there are many inconsistencies within the dataset before we continue with any analysis",
   "id": "da9bf096d76ea68e"
  },
  {
   "metadata": {},
   "cell_type": "markdown",
   "source": "#### Handling Data Inconsistencies",
   "id": "d9420a89ffeb8fe3"
  },
  {
   "metadata": {
    "ExecuteTime": {
     "end_time": "2025-10-14T20:22:19.645378Z",
     "start_time": "2025-10-14T20:22:19.633469Z"
    }
   },
   "cell_type": "code",
   "source": "data.columns",
   "id": "bbad6af30f2a9b69",
   "outputs": [
    {
     "data": {
      "text/plain": [
       "Index(['job_title', 'seniority_level', 'status', 'company', 'location',\n",
       "       'post_date', 'headquarter', 'industry', 'ownership', 'company_size',\n",
       "       'revenue', 'salary', 'skills'],\n",
       "      dtype='object')"
      ]
     },
     "execution_count": 6,
     "metadata": {},
     "output_type": "execute_result"
    }
   ],
   "execution_count": 6
  },
  {
   "metadata": {
    "ExecuteTime": {
     "end_time": "2025-10-14T20:26:31.154495Z",
     "start_time": "2025-10-14T20:26:31.140533Z"
    }
   },
   "cell_type": "code",
   "source": [
    "#correcting data entries\n",
    "categorical_columns=[\"seniority_level\",'status','company','location','industry','ownership']\n",
    "\n",
    "for column in categorical_columns:\n",
    "    print(data[column].value_counts())\n",
    "    print(\"==\"*50)"
   ],
   "id": "19bd0e54963b1b17",
   "outputs": [
    {
     "name": "stdout",
     "output_type": "stream",
     "text": [
      "seniority_level\n",
      "senior      630\n",
      "lead        116\n",
      "midlevel    113\n",
      "junior       25\n",
      "Name: count, dtype: int64\n",
      "====================================================================================================\n",
      "status\n",
      "on-site    363\n",
      "hybrid     207\n",
      "remote     118\n",
      "Name: count, dtype: int64\n",
      "====================================================================================================\n",
      "company\n",
      "company_134    30\n",
      "company_003    24\n",
      "company_941    21\n",
      "company_395    21\n",
      "company_244    20\n",
      "               ..\n",
      "company_044     1\n",
      "company_045     1\n",
      "company_046     1\n",
      "company_048     1\n",
      "company_050     1\n",
      "Name: count, Length: 420, dtype: int64\n",
      "====================================================================================================\n",
      "location\n",
      "Bengaluru, Karnataka, India                                             52\n",
      "Fully Remote                                                            35\n",
      "United States                                                           22\n",
      "New York, NY                                                            22\n",
      "On-site                                                                 18\n",
      "                                                                        ..\n",
      "Huntsville, AL . Merritt Island, FL . Seattle, WA                        1\n",
      "Laurel, MD                                                               1\n",
      "San Francisco, CA, US . Seattle, WA, US . Hybrid                         1\n",
      "Seattle, WA . Santa Clara, CA                                            1\n",
      "Irving, TX . Lake Mary, FL . Basking Ridge, NJ . Boston, MA . Hybrid     1\n",
      "Name: count, Length: 431, dtype: int64\n",
      "====================================================================================================\n",
      "industry\n",
      "Technology       582\n",
      "Finance          127\n",
      "Retail           110\n",
      "Healthcare        83\n",
      "Education         19\n",
      "Energy            12\n",
      "Manufacturing      7\n",
      "Logistics          4\n",
      "Name: count, dtype: int64\n",
      "====================================================================================================\n",
      "ownership\n",
      "Public     579\n",
      "Private    318\n",
      "Name: count, dtype: int64\n",
      "====================================================================================================\n"
     ]
    }
   ],
   "execution_count": 9
  },
  {
   "metadata": {
    "ExecuteTime": {
     "end_time": "2025-10-14T20:30:55.444217Z",
     "start_time": "2025-10-14T20:30:55.428001Z"
    }
   },
   "cell_type": "code",
   "source": [
    "numeric_columns=['company_size','revenue','salary']\n",
    "for column in numeric_columns:\n",
    "    print(data[column].value_counts())\n",
    "    print(\"==\"*50)\n"
   ],
   "id": "1ced9d31b80905d3",
   "outputs": [
    {
     "name": "stdout",
     "output_type": "stream",
     "text": [
      "company_size\n",
      "900         18\n",
      "Private     15\n",
      "180         15\n",
      "45          15\n",
      "€354.99B    14\n",
      "            ..\n",
      "24,820       1\n",
      "88,990       1\n",
      "118,910      1\n",
      "68,400       1\n",
      "93,580       1\n",
      "Name: count, Length: 510, dtype: int64\n",
      "====================================================================================================\n",
      "revenue\n",
      "Private      247\n",
      "Public       227\n",
      "Education     20\n",
      "Nonprofit     12\n",
      "€913.33M       6\n",
      "            ... \n",
      "€51.10B        1\n",
      "€29.17B        1\n",
      "€11.43B        1\n",
      "€4.93B         1\n",
      "€36.29B        1\n",
      "Name: count, Length: 312, dtype: int64\n",
      "====================================================================================================\n",
      "salary\n",
      "€25,214                3\n",
      "€137,000               3\n",
      "€10,524 - €26,185      3\n",
      "€114,169               3\n",
      "€137,006 - €200,939    2\n",
      "                      ..\n",
      "€33,288 - €53,080      1\n",
      "€64,290                1\n",
      "€145,904 - €166,510    1\n",
      "€159,149 - €181,595    1\n",
      "€195,486 - €201,926    1\n",
      "Name: count, Length: 896, dtype: int64\n",
      "====================================================================================================\n"
     ]
    }
   ],
   "execution_count": 11
  }
 ],
 "metadata": {
  "kernelspec": {
   "display_name": "Python 3",
   "language": "python",
   "name": "python3"
  },
  "language_info": {
   "codemirror_mode": {
    "name": "ipython",
    "version": 2
   },
   "file_extension": ".py",
   "mimetype": "text/x-python",
   "name": "python",
   "nbconvert_exporter": "python",
   "pygments_lexer": "ipython2",
   "version": "2.7.6"
  }
 },
 "nbformat": 4,
 "nbformat_minor": 5
}
