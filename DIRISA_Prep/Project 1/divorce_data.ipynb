{
 "cells": [
  {
   "cell_type": "markdown",
   "id": "8d731413",
   "metadata": {},
   "source": [
    "### **About Dataset**\n",
    "\n",
    "The MD dataset represents one of three primary sources of marriage and divorce statistics in South Africa. Unlike population censuses and household surveys, this dataset is compiled from administrative records through continuous civil registration systems.\n",
    "\n",
    "**Data Provenance:**\n",
    " Statistics South Africa (Stats SA) has published this series since 2006, with MD 2023 being the most recent available dataset.\n",
    "\n",
    "**Divorce Data Specifics**\n",
    "\n",
    "- Regional courts handling divorce proceedings \n",
    "- Successfully granted divorce decrees from the Department of Justice and Constitutional Development \n",
    "- Records may originate from marriages and filings across different years\n",
    "\n",
    "**Target Variable**\n",
    "\n",
    "Your predictive model should focus on determining the **GroundsForDivorce** variable based on available case characteristics.\n",
    "\n",
    "[Click here for more description](https://www.datafirst.uct.ac.za/dataportal/index.php/catalog/1023/data-dictionary/F4?file_name=md-2023-divorces-v1)"
   ]
  }
 ],
 "metadata": {
  "language_info": {
   "name": "python"
  }
 },
 "nbformat": 4,
 "nbformat_minor": 5
}
