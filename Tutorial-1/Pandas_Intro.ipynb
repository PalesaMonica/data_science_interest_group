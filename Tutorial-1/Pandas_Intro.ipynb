{
 "cells": [
  {
   "cell_type": "markdown",
   "metadata": {},
   "source": [
    "## Understanding Your Dataset with Pandas"
   ]
  },
  {
   "cell_type": "markdown",
   "metadata": {},
   "source": [
    "Objective: In this tutorial, you will:\n",
    "- Load a dataset using Pandas\n",
    "- Explore its structure and contents\n",
    "- Handle missing values"
   ]
  },
  {
   "cell_type": "markdown",
   "metadata": {},
   "source": [
    "#### Questions\n",
    "\n",
    "1. What are the columns in your dataset?\n",
    "2. How many rows and columns does your dataset have?\n",
    "3. Identify which columns are numerical and which are categorical.\n",
    "4. Identify which columns have missing values and how many.\n",
    "5. Look at the mean, min, max, standard deviation of numerical data\n",
    "6. Look up **value_counts()** and explain what it is  used for,show example on how to use it\n",
    "\n",
    "\n",
    "**For each question explain what you notive in your data.This will be the starting point of our next session in Data Exploration and Analysis**\n"
   ]
  }
 ],
 "metadata": {
  "language_info": {
   "name": "python"
  }
 },
 "nbformat": 4,
 "nbformat_minor": 2
}
