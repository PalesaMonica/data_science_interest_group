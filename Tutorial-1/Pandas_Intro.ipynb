{
 "cells": [
  {
   "cell_type": "markdown",
   "metadata": {},
   "source": [
    "## Understanding Your Dataset with Pandas"
   ]
  },
  {
   "cell_type": "markdown",
   "metadata": {},
   "source": [
    "## About Dataset\n",
    "\n",
    "**Diabetes Diagnosis Dataset**\n",
    "\n",
    "This dataset contains 9,538 medical records related to diabetes diagnosis and risk factors. It includes various health parameters, lifestyle habits, and genetic predispositions that contribute to diabetes risk. The data is structured with realistic distributions, making it valuable for medical research, statistical analysis, and machine learning applications.\n",
    "\n",
    "Age: The age of the individual (18-90 years).\n",
    "\n",
    "Pregnancies: Number of times the patient has been pregnant.\n",
    "\n",
    "BMI (Body Mass Index): A measure of body fat based on height and weight (kg/m²).\n",
    "\n",
    "Glucose: Blood glucose concentration (mg/dL), a key diabetes indicator.\n",
    "\n",
    "BloodPressure: Systolic blood pressure (mmHg), higher levels may indicate hypertension.\n",
    "\n",
    "HbA1c: Hemoglobin A1c level (%), representing average blood sugar over months.\n",
    "\n",
    "LDL (Low-Density Lipoprotein): \"Bad\" cholesterol level (mg/dL).\n",
    "\n",
    "HDL (High-Density Lipoprotein): \"Good\" cholesterol level (mg/dL).\n",
    "\n",
    "Triglycerides: Fat levels in the blood (mg/dL), high values increase diabetes risk.\n",
    "\n",
    "WaistCircumference: Waist measurement (cm), an indicator of central obesity.\n",
    "\n",
    "HipCircumference: Hip measurement (cm), used to calculate WHR.\n",
    "\n",
    "WHR (Waist-to-Hip Ratio): Waist circumference divided by hip circumference.\n",
    "\n",
    "FamilyHistory: Indicates if the individual has a family history of diabetes (1 = Yes, 0 = No).\n",
    "\n",
    "DietType: Dietary habits (0 = Unbalanced, 1 = Balanced, 2 = Vegan/Vegetarian).\n",
    "\n",
    "Hypertension: Presence of high blood pressure (1 = Yes, 0 = No).\n",
    "\n",
    "MedicationUse: Indicates if the individual is taking medication (1 = Yes, 0 = No).\n",
    "\n",
    "Outcome: Diabetes diagnosis result (1 = Diabetes, 0 = No Diabetes).\n",
    "\n",
    "This dataset is useful for exploring the relationships between lifestyle choices, genetic factors, and diabetes risk, providing valuable insights for predictive modeling and health analytics.\n",
    "\n",
    "---"
   ]
  },
  {
   "cell_type": "markdown",
   "metadata": {},
   "source": [
    "Objective: In this tutorial, you will:\n",
    "- Load a dataset using Pandas\n",
    "- Explore its structure and contents\n",
    "- Handle missing values"
   ]
  },
  {
   "cell_type": "markdown",
   "metadata": {},
   "source": [
    "#### Questions\n",
    "\n",
    "1. What are the columns in your dataset?\n",
    "2. How many rows and columns does your dataset have?\n",
    "3. Identify which columns are numerical and which are categorical.\n",
    "4. Look at the mean, min, max, standard deviation of numerical data\n",
    "5. Look up **value_counts()** and explain what it is  used for,show example on how to use it\n",
    "6. Identify which columns have missing values and how many.\n",
    "\n",
    "\n",
    "**For each question, explain your observations about the data. Your insights will serve as the foundation for our next session on Data Exploration and Analysis.**\n"
   ]
  }
 ],
 "metadata": {
  "language_info": {
   "name": "python"
  }
 },
 "nbformat": 4,
 "nbformat_minor": 2
}
