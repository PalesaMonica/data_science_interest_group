{
 "cells": [
  {
   "cell_type": "markdown",
   "metadata": {},
   "source": [
    "## Understanding Your Dataset with Pandas"
   ]
  },
  {
   "cell_type": "markdown",
   "metadata": {},
   "source": [
    "Objective: In this tutorial, you will:\n",
    "- Load a dataset using Pandas\n",
    "- Explore its structure and contents\n",
    "- Handle missing values"
   ]
  },
  {
   "cell_type": "markdown",
   "metadata": {},
   "source": [
    "#### Questions\n",
    "\n",
    "1. What are the columns in your dataset?\n",
    "2. How many rows and columns does your dataset have?\n",
    "3. Identify which columns are numerical and which are categorical.\n",
    "4. Look at the mean, min, max, standard deviation of numerical data\n",
    "5. Look up **value_counts()** and explain what it is  used for,show example on how to use it\n",
    "6. Identify which columns have missing values and how many.\n",
    "\n",
    "\n",
    "**For each question, explain your observations about the data. Your insights will serve as the foundation for our next session on Data Exploration and Analysis.**\n"
   ]
  }
 ],
 "metadata": {
  "language_info": {
   "name": "python"
  }
 },
 "nbformat": 4,
 "nbformat_minor": 2
}
